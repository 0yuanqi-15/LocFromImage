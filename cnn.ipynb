{
  "cells": [
    {
      "cell_type": "code",
      "execution_count": null,
      "metadata": {
        "id": "sQbS4-qaJvV-"
      },
      "outputs": [],
      "source": [
        "import numpy as np\n",
        "import pandas as pd\n",
        "import glob\n",
        "\n",
        "import tensorflow as tf\n",
        "from tensorflow import keras\n",
        "from tensorflow.keras.models import Model\n",
        "from tensorflow.keras.layers import Conv2D,  MaxPooling2D, Flatten, Dense, Dropout\n",
        "from tensorflow.keras.applications.resnet50 import ResNet50\n",
        "from tensorflow.keras.applications.resnet50 import preprocess_input\n",
        "\n",
        "from tensorflow.keras.preprocessing import image\n",
        "from tqdm import tqdm\n",
        "import numpy as np\n",
        "import matplotlib.pyplot as plt\n"
      ]
    },
    {
      "cell_type": "code",
      "execution_count": null,
      "metadata": {
        "id": "RjLYg05fJvWA"
      },
      "outputs": [],
      "source": [
        "train_dev_image_path = glob.glob('train/*.jpg')\n",
        "train_dev_coord_csv = pd.read_csv(\"train.csv\", index_col=\"id\")"
      ]
    },
    {
      "cell_type": "code",
      "execution_count": null,
      "metadata": {
        "colab": {
          "base_uri": "https://localhost:8080/"
        },
        "id": "EJubfDMtHA-Q",
        "outputId": "134148ff-82bd-4cfd-a9f1-90875a30a836"
      },
      "outputs": [],
      "source": [
        "train_dev_images = []\n",
        "train_dev_coords = []\n",
        "for path in tqdm(train_dev_image_path):\n",
        "    img = image.load_img(path, target_size=(200, 200))\n",
        "    img = image.img_to_array(img)\n",
        "    train_dev_images.append(img)\n",
        "    x, y = train_dev_coord_csv.loc[path[-13:-4]]\n",
        "    train_dev_coords.append((x, y))"
      ]
    },
    {
      "cell_type": "code",
      "execution_count": null,
      "metadata": {
        "colab": {
          "base_uri": "https://localhost:8080/",
          "height": 279
        },
        "id": "alA-Vnov5-27",
        "outputId": "6ec0840e-a709-4a5c-d3f9-d8caa6ad0b9b"
      },
      "outputs": [],
      "source": [
        "# Plot the coords distribution\n",
        "# Not nesserary to run to get the output\n",
        "coords = sorted(train_dev_coords)\n",
        "x = [a for a,_ in coords]\n",
        "y = [b for _,b in coords]\n",
        "plt.plot(x, y,'o', ms=0.5)\n",
        "plt.xlabel(\"x\")\n",
        "plt.ylabel(\"y\")\n",
        "plt.show()"
      ]
    },
    {
      "cell_type": "code",
      "execution_count": null,
      "metadata": {
        "id": "pVdA9Lh3INSx"
      },
      "outputs": [],
      "source": [
        "train_dev_images = np.array(train_dev_images)\n",
        "train_dev_coords = np.array(train_dev_coords)"
      ]
    },
    {
      "cell_type": "code",
      "execution_count": null,
      "metadata": {
        "colab": {
          "base_uri": "https://localhost:8080/"
        },
        "id": "y0ayiPVpJvWD",
        "outputId": "451ce867-f4b5-4754-f426-27b833b6ac44"
      },
      "outputs": [],
      "source": [
        "pretrain_model = ResNet50(weights=\"imagenet\", input_shape=[200,200,3],include_top=False)\n",
        "for layer in pretrain_model.layers:\n",
        "    layer.trainable = False\n",
        "conv1 = Conv2D(filters = 32, kernel_size = (1,1), padding = 'same', activation = 'relu')(pretrain_model.layers[-1].output)\n",
        "conv2 = Conv2D(filters = 64, kernel_size = (3,3), padding = 'same', activation = 'relu')(conv1)\n",
        "conv3 = Conv2D(filters = 128, kernel_size = (3,3), padding = 'same', activation = 'relu')(conv2)\n",
        "max_pooling = MaxPooling2D(pool_size= (2,2), strides = 2, padding = 'same')(conv3)\n",
        "flat1 = Flatten()(max_pooling)\n",
        "dropout = Dropout(0.3)(flat1)\n",
        "class1 = Dense(1048, activation='relu')(dropout)\n",
        "output = Dense(2)(class1)\n",
        "model = Model(inputs=pretrain_model.inputs, outputs=output)"
      ]
    },
    {
      "cell_type": "code",
      "execution_count": null,
      "metadata": {
        "id": "bpSJ1ew8sbXm"
      },
      "outputs": [],
      "source": [
        "x_train = preprocess_input(train_dev_images) "
      ]
    },
    {
      "cell_type": "code",
      "execution_count": null,
      "metadata": {
        "colab": {
          "base_uri": "https://localhost:8080/",
          "height": 1000
        },
        "id": "-zYM7VDHJvWJ",
        "outputId": "54490c92-9277-4b63-eee0-913d2031fd38"
      },
      "outputs": [],
      "source": [
        "model.compile(optimizer=tf.keras.optimizers.Adam(learning_rate=0.001),\n",
        "           loss=\"mean_absolute_error\")\n",
        "model.fit(x=x_train, y=train_dev_coords,\n",
        "          validation_split = 0.2,\n",
        "    epochs=200, batch_size=128)"
      ]
    },
    {
      "cell_type": "code",
      "execution_count": null,
      "metadata": {
        "colab": {
          "base_uri": "https://localhost:8080/"
        },
        "id": "ivqSQXcptQDC",
        "outputId": "6084e78c-99dd-4199-aecd-eeddb30977eb"
      },
      "outputs": [],
      "source": [
        "test_image_path = sorted(glob.glob('test/*.jpg'))\n",
        "test_images = []\n",
        "for path in tqdm(test_image_path):\n",
        "    img = image.load_img(path, target_size=(200, 200))\n",
        "    img = image.img_to_array(img)\n",
        "    test_images.append(img)\n",
        "test_images = np.array(test_images)\n",
        "test_images = preprocess_input(test_images) \n",
        "predict = model.predict(test_images)"
      ]
    },
    {
      "cell_type": "code",
      "execution_count": null,
      "metadata": {
        "id": "aOH_B77TUml0"
      },
      "outputs": [],
      "source": [
        "all_test_coord = []\n",
        "for i, test_name in enumerate(test_image_path):\n",
        "  curr = []\n",
        "  test_name = test_name[-13:-4]\n",
        "  curr.append(test_name)\n",
        "  curr.append(predict[i][0])\n",
        "  curr.append(predict[i][1])\n",
        "  all_test_coord.append(curr)\n"
      ]
    },
    {
      "cell_type": "code",
      "execution_count": null,
      "metadata": {
        "id": "_qY94oPGVmUI"
      },
      "outputs": [],
      "source": [
        "df = pd.DataFrame(all_test_coord, columns = [\"id\", 'x', 'y'])\n",
        "df.to_csv(\"output_cnn.csv\", index=False)"
      ]
    }
  ],
  "metadata": {
    "accelerator": "GPU",
    "colab": {
      "collapsed_sections": [],
      "machine_shape": "hm",
      "name": "proj.ipynb",
      "provenance": []
    },
    "interpreter": {
      "hash": "aee8b7b246df8f9039afb4144a1f6fd8d2ca17a180786b69acc140d282b71a49"
    },
    "kernelspec": {
      "display_name": "Python 3.9.6 64-bit",
      "name": "python3"
    },
    "language_info": {
      "codemirror_mode": {
        "name": "ipython",
        "version": 3
      },
      "file_extension": ".py",
      "mimetype": "text/x-python",
      "name": "python",
      "nbconvert_exporter": "python",
      "pygments_lexer": "ipython3",
      "version": "3.9.6"
    },
    "orig_nbformat": 4
  },
  "nbformat": 4,
  "nbformat_minor": 0
}
