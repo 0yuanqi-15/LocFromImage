{
 "cells": [
  {
   "cell_type": "code",
   "execution_count": 1,
   "metadata": {},
   "outputs": [],
   "source": [
    "import matplotlib.pyplot as plt\n",
    "import pandas as pd\n",
    "import os\n",
    "import cv2  \n",
    "from tqdm import tqdm\n",
    "from collections import Counter\n",
    "from PIL import Image"
   ]
  },
  {
   "cell_type": "code",
   "execution_count": 2,
   "metadata": {},
   "outputs": [],
   "source": [
    "def create_des(path):\n",
    "    sift = cv2.SIFT_create()\n",
    "    des_dict = {}\n",
    "    for filename in tqdm(sorted(os.listdir(path))):\n",
    "        if filename.startswith(\".\"):\n",
    "            continue\n",
    "        gray = cv2.imread(os.path.join(path, filename),cv2.IMREAD_GRAYSCALE)\n",
    "        kp, des = sift.detectAndCompute(gray,None)\n",
    "        des_dict[filename] = des\n",
    "    return des_dict"
   ]
  },
  {
   "cell_type": "code",
   "execution_count": 4,
   "metadata": {},
   "outputs": [
    {
     "name": "stderr",
     "output_type": "stream",
     "text": [
      "100%|███████████████████████████████████████| 7501/7501 [11:49<00:00, 10.58it/s]\n",
      "100%|███████████████████████████████████████| 1201/1201 [01:40<00:00, 11.95it/s]\n"
     ]
    }
   ],
   "source": [
    "train_des = create_des(\"train\")\n",
    "test_des = create_des(\"test\")"
   ]
  },
  {
   "cell_type": "code",
   "execution_count": 5,
   "metadata": {},
   "outputs": [],
   "source": [
    "def create_flann(des):\n",
    "    index_params = dict(algorithm = 1, trees = 5)\n",
    "    search_params = dict(checks=50)\n",
    "    flann = cv2.FlannBasedMatcher(index_params,search_params)\n",
    "    for d in tqdm(des.values()):\n",
    "        flann.add([d])\n",
    "    flann.train()\n",
    "    return flann"
   ]
  },
  {
   "cell_type": "code",
   "execution_count": 6,
   "metadata": {},
   "outputs": [
    {
     "name": "stderr",
     "output_type": "stream",
     "text": [
      "100%|███████████████████████████████████| 7500/7500 [00:00<00:00, 168150.61it/s]\n"
     ]
    }
   ],
   "source": [
    "FLANN = create_flann(train_des)"
   ]
  },
  {
   "cell_type": "code",
   "execution_count": 12,
   "metadata": {},
   "outputs": [],
   "source": [
    "def sift_compare(path, flann, test_des, train_des):\n",
    "    sift_result = {}\n",
    "    train_image_list = list(train_des)\n",
    "    for filename in tqdm(sorted(os.listdir(path))):\n",
    "        if filename.startswith(\".\"):\n",
    "            continue\n",
    "        try:\n",
    "            matches = flann.knnMatch(test_des[filename], k=2)\n",
    "        except:\n",
    "            sift_result[filename] = []\n",
    "            continue\n",
    "        \n",
    "        matches_counter = Counter()\n",
    "        for m, n in matches:\n",
    "            if m.distance < 0.55*n.distance:\n",
    "                matches_counter[train_image_list[m.imgIdx]] += 1\n",
    "        \n",
    "        best_match = matches_counter.most_common(3)\n",
    "        sift_result[filename] = best_match\n",
    "        \n",
    "    return sift_result\n",
    "        "
   ]
  },
  {
   "cell_type": "code",
   "execution_count": 13,
   "metadata": {},
   "outputs": [
    {
     "name": "stderr",
     "output_type": "stream",
     "text": [
      "100%|███████████████████████████████████████| 1201/1201 [13:40<00:00,  1.46it/s]\n"
     ]
    }
   ],
   "source": [
    "sift_result = sift_compare(\"test\", FLANN, test_des, train_des)"
   ]
  },
  {
   "cell_type": "code",
   "execution_count": null,
   "metadata": {
    "scrolled": true
   },
   "outputs": [],
   "source": [
    "# check how the top 3 matching image looks like\n",
    "# for test only\n",
    "for img_name in sift_result.keys():\n",
    "    plt.subplots(figsize=(10, 10)) \n",
    "    print(img_name)\n",
    "    img = Image.open(os.path.join(\"test/\"+img_name))\n",
    "    plt.subplot(1, 4, 1)\n",
    "    plt.imshow(img)\n",
    "    plt.axis(\"off\")\n",
    "    predict = sift_result.get(img_name)\n",
    "    for i, (predict_img,_) in enumerate(predict):\n",
    "        img = Image.open(os.path.join(\"train/\"+predict_img))\n",
    "        plt.subplot(1, 4, i+2)\n",
    "        plt.imshow(img)\n",
    "        plt.axis(\"off\")\n",
    "    plt.show()"
   ]
  },
  {
   "cell_type": "code",
   "execution_count": 14,
   "metadata": {},
   "outputs": [],
   "source": [
    "cnn_result = pd.read_csv(\"output_cnn.csv\", index_col=\"id\")\n",
    "train_coord_csv = pd.read_csv(\"train.csv\", index_col=\"id\")\n",
    "all_test_coords = []\n",
    "for img_name in sift_result.keys():\n",
    "    current = []\n",
    "    current.append(img_name[:-4])\n",
    "    corresponding_image_list = sift_result.get(img_name)\n",
    "    if len(corresponding_image_list) == 0:\n",
    "        x, y = cnn_result.loc[img_name[:-4]]\n",
    "    else:\n",
    "        # uses the best match image\n",
    "        best_image = corresponding_image_list[0][0]\n",
    "        x, y = train_coord_csv.loc[best_image[:-4]]\n",
    "    current.append(x)\n",
    "    current.append(y)\n",
    "    all_test_coords.append(current)\n",
    "        "
   ]
  },
  {
   "cell_type": "code",
   "execution_count": 15,
   "metadata": {},
   "outputs": [],
   "source": [
    "df = pd.DataFrame(all_test_coords, columns = [\"id\", 'x', 'y'])\n",
    "df.to_csv(\"output_sift.csv\", index=False)"
   ]
  },
  {
   "cell_type": "code",
   "execution_count": null,
   "metadata": {},
   "outputs": [],
   "source": []
  }
 ],
 "metadata": {
  "kernelspec": {
   "display_name": "Python 3",
   "language": "python",
   "name": "python3"
  },
  "language_info": {
   "codemirror_mode": {
    "name": "ipython",
    "version": 3
   },
   "file_extension": ".py",
   "mimetype": "text/x-python",
   "name": "python",
   "nbconvert_exporter": "python",
   "pygments_lexer": "ipython3",
   "version": "3.9.6"
  }
 },
 "nbformat": 4,
 "nbformat_minor": 4
}
